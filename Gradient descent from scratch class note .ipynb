{
 "cells": [
  {
   "cell_type": "code",
   "execution_count": 1,
   "id": "de94f95d",
   "metadata": {},
   "outputs": [],
   "source": [
    "import numpy as np \n",
    "import matplotlib.pyplot as plt \n",
    "from matplotlib import pyplot as plt"
   ]
  },
  {
   "cell_type": "code",
   "execution_count": 2,
   "id": "e90a324d",
   "metadata": {},
   "outputs": [
    {
     "data": {
      "text/plain": [
       "[<matplotlib.lines.Line2D at 0x14f0c0a0820>]"
      ]
     },
     "execution_count": 2,
     "metadata": {},
     "output_type": "execute_result"
    },
    {
     "data": {
      "image/png": "[encoded data removed]",
      "text/plain": [
       "<Figure size 432x288 with 1 Axes>"
      ]
     },
     "metadata": {
      "needs_background": "light"
     },
     "output_type": "display_data"
    }
   ],
   "source": [
    "def f(x):\n",
    "    return x**2 - 30 \n",
    "\n",
    "x = np.arange(-10 , 10)\n",
    "y = f(x)\n",
    "plt.plot(x,y)"
   ]
  },
  {
   "cell_type": "markdown",
   "id": "0c21c6e3",
   "metadata": {},
   "source": [
    "##### partial derivative if we have 3 dependent variable "
   ]
  },
  {
   "cell_type": "code",
   "execution_count": 3,
   "id": "ea25ff9e",
   "metadata": {},
   "outputs": [],
   "source": [
    "# def gradient_x(x):\n",
    "#     delta = 0.0001\n",
    "#     return (f(x + delta , y , z) - f(x , y , z)) / delta\n",
    "    \n",
    "    \n",
    "# def gradient_y(x):\n",
    "#     delta = 0.0001\n",
    "#     return (f(x , y + delta , z) - f(x , y , z)) / delta\n",
    "    \n",
    "    \n",
    "    \n",
    "# def gradient_z(x):\n",
    "#     delta = 0.0001\n",
    "#     return (f(x , y , z+ delta) - f(x , y , z)) / delta"
   ]
  },
  {
   "cell_type": "code",
   "execution_count": null,
   "id": "332670bf",
   "metadata": {},
   "outputs": [],
   "source": []
  },
  {
   "cell_type": "markdown",
   "id": "a1fcbe9f",
   "metadata": {},
   "source": [
    "#### but we only have 1 so "
   ]
  },
  {
   "cell_type": "code",
   "execution_count": 10,
   "id": "1e47586b",
   "metadata": {},
   "outputs": [],
   "source": [
    "def derivative(x, f):\n",
    "    delta = 0.0001\n",
    "    return (f(x + delta) - f(x)) / delta"
   ]
  },
  {
   "cell_type": "code",
   "execution_count": 11,
   "id": "0cc964a2",
   "metadata": {},
   "outputs": [],
   "source": [
    "def one_step_gd(x , f , lr ): # lr - learning rate = eta  , f finction and x \n",
    "    grad = derivative(x,f)\n",
    "    new_x = x - lr * grad\n",
    "    new_fx = f(new_x)\n",
    "    return new_x , new_fx, grad\n",
    "    "
   ]
  },
  {
   "cell_type": "code",
   "execution_count": 12,
   "id": "0ef3cb64",
   "metadata": {},
   "outputs": [
    {
     "name": "stdout",
     "output_type": "stream",
     "text": [
      "initial position: (11, 91)\n",
      "Force stop\n",
      "Took 101 iterations\n",
      "Final loss -10.639383995364891\n",
      "Optimum value of parameter: -10.639383995364891\n"
     ]
    }
   ],
   "source": [
    "new_x = np.random.randint(5,15)\n",
    "new_fx = f(new_x)\n",
    "print('initial position:', (new_x, new_fx) )\n",
    "num_steps = 100\n",
    "learning_rate = 0.7\n",
    "\n",
    "xs = []\n",
    "fxs = []\n",
    "\n",
    "while True:\n",
    "    new_x, new_fx, grad = one_step_gd(new_x, f, learning_rate)\n",
    "    xs.append(new_x)\n",
    "    fxs.append(new_fx)\n",
    "    num_steps += 1\n",
    "    if num_steps > 100:\n",
    "        print('Force stop')\n",
    "        break \n",
    "    if len(fxs) > 2 and abs(fxs[-1] -  fxs[-2] < 1e-3):\n",
    "        print('early stop')\n",
    "        break\n",
    "\n",
    "        \n",
    "print(f\"Took {num_steps} iterations\")\n",
    "print(f\"Final loss {new_fx}\")\n",
    "print(f\"Optimum value of parameter: {new_fx}\")"
   ]
  },
  {
   "cell_type": "code",
   "execution_count": null,
   "id": "4fc7f251",
   "metadata": {},
   "outputs": [],
   "source": []
  },
  {
   "cell_type": "code",
   "execution_count": null,
   "id": "6fc998de",
   "metadata": {},
   "outputs": [],
   "source": []
  },
  {
   "cell_type": "code",
   "execution_count": null,
   "id": "7b59c7d0",
   "metadata": {},
   "outputs": [],
   "source": []
  },
  {
   "cell_type": "code",
   "execution_count": null,
   "id": "70ca6187",
   "metadata": {},
   "outputs": [],
   "source": []
  },
  {
   "cell_type": "code",
   "execution_count": null,
   "id": "e8529710",
   "metadata": {},
   "outputs": [],
   "source": []
  },
  {
   "cell_type": "code",
   "execution_count": null,
   "id": "915bfebe",
   "metadata": {},
   "outputs": [],
   "source": []
  }
 ],
 "metadata": {
  "kernelspec": {
   "display_name": "Python 3 (ipykernel)",
   "language": "python",
   "name": "python3"
  },
  "language_info": {
   "codemirror_mode": {
    "name": "ipython",
    "version": 3
   },
   "file_extension": ".py",
   "mimetype": "text/x-python",
   "name": "python",
   "nbconvert_exporter": "python",
   "pygments_lexer": "ipython3",
   "version": "3.9.7"
  }
 },
 "nbformat": 4,
 "nbformat_minor": 5
}
