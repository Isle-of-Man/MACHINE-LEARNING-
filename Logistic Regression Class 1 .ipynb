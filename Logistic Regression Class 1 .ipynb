{
 "cells": [
  {
   "cell_type": "code",
   "execution_count": 6,
   "id": "6615c91d",
   "metadata": {},
   "outputs": [],
   "source": [
    "import pandas as pd \n",
    "import numpy as np\n",
    "import matplotlib.pyplot as plt"
   ]
  },
  {
   "cell_type": "code",
   "execution_count": 11,
   "id": "7b0b4b4e",
   "metadata": {},
   "outputs": [],
   "source": [
    "def sigmoid (x):\n",
    "    return 1/(1 + np.exp(-x))"
   ]
  },
  {
   "cell_type": "code",
   "execution_count": 12,
   "id": "80c3d484",
   "metadata": {},
   "outputs": [
    {
     "data": {
      "text/plain": [
       "1.0"
      ]
     },
     "execution_count": 12,
     "metadata": {},
     "output_type": "execute_result"
    }
   ],
   "source": [
    "sigmoid(1000)"
   ]
  },
  {
   "cell_type": "code",
   "execution_count": 13,
   "id": "cd0f8a62",
   "metadata": {},
   "outputs": [
    {
     "data": {
      "text/plain": [
       "1.928749847963918e-22"
      ]
     },
     "execution_count": 13,
     "metadata": {},
     "output_type": "execute_result"
    }
   ],
   "source": [
    "sigmoid(-50)"
   ]
  },
  {
   "cell_type": "code",
   "execution_count": 14,
   "id": "abbd9151",
   "metadata": {},
   "outputs": [
    {
     "data": {
      "text/plain": [
       "0.5"
      ]
     },
     "execution_count": 14,
     "metadata": {},
     "output_type": "execute_result"
    }
   ],
   "source": [
    "sigmoid(0)"
   ]
  },
  {
   "cell_type": "code",
   "execution_count": 17,
   "id": "0f0341c2",
   "metadata": {},
   "outputs": [],
   "source": [
    "x = np.arange(-10 , 10, 0.1)\n",
    "y_ = sigmoid(x)"
   ]
  },
  {
   "cell_type": "code",
   "execution_count": null,
   "id": "8f93b9ed",
   "metadata": {},
   "outputs": [],
   "source": []
  },
  {
   "cell_type": "code",
   "execution_count": 21,
   "id": "70a93b6c",
   "metadata": {},
   "outputs": [
    {
     "data": {
      "image/png": "[encoded data removed]",
      "text/plain": [
       "<Figure size 432x288 with 1 Axes>"
      ]
     },
     "metadata": {
      "needs_background": "light"
     },
     "output_type": "display_data"
    }
   ],
   "source": [
    "plt.plot(x,y_)\n",
    "plt.grid('on')"
   ]
  },
  {
   "cell_type": "markdown",
   "id": "5450ff08",
   "metadata": {},
   "source": [
    "#### Log Loss "
   ]
  },
  {
   "cell_type": "code",
   "execution_count": 29,
   "id": "983b46f7",
   "metadata": {},
   "outputs": [],
   "source": [
    "def logloss(y, y_hat):\n",
    "    return -y * np.log(y_hat) - (1-y)* np.log(1 - y_hat)"
   ]
  },
  {
   "cell_type": "code",
   "execution_count": 31,
   "id": "f3040547",
   "metadata": {},
   "outputs": [
    {
     "data": {
      "text/plain": [
       "0.01005033585350145"
      ]
     },
     "execution_count": 31,
     "metadata": {},
     "output_type": "execute_result"
    }
   ],
   "source": [
    "y = 1 \n",
    "y_hat = 0.99 \n",
    "logloss(y, y_hat)"
   ]
  },
  {
   "cell_type": "code",
   "execution_count": 32,
   "id": "e793515f",
   "metadata": {},
   "outputs": [
    {
     "data": {
      "text/plain": [
       "1.000000500029089e-06"
      ]
     },
     "execution_count": 32,
     "metadata": {},
     "output_type": "execute_result"
    }
   ],
   "source": [
    "y = 1 \n",
    "y_hat = 0.999999 \n",
    "logloss(y, y_hat)"
   ]
  },
  {
   "cell_type": "code",
   "execution_count": 33,
   "id": "6bbd994f",
   "metadata": {},
   "outputs": [
    {
     "data": {
      "text/plain": [
       "0.10536051565782628"
      ]
     },
     "execution_count": 33,
     "metadata": {},
     "output_type": "execute_result"
    }
   ],
   "source": [
    "y = 1 \n",
    "y_hat = 0.9\n",
    "logloss(y, y_hat)"
   ]
  },
  {
   "cell_type": "code",
   "execution_count": 34,
   "id": "a0756514",
   "metadata": {},
   "outputs": [
    {
     "data": {
      "text/plain": [
       "0.2231435513142097"
      ]
     },
     "execution_count": 34,
     "metadata": {},
     "output_type": "execute_result"
    }
   ],
   "source": [
    "y = 1 \n",
    "y_hat = 0.8\n",
    "logloss(y, y_hat)"
   ]
  },
  {
   "cell_type": "code",
   "execution_count": 36,
   "id": "f22fbc36",
   "metadata": {},
   "outputs": [
    {
     "data": {
      "text/plain": [
       "4.605170185988091"
      ]
     },
     "execution_count": 36,
     "metadata": {},
     "output_type": "execute_result"
    }
   ],
   "source": [
    "y = 1 \n",
    "y_hat = 0.01\n",
    "logloss(y, y_hat)"
   ]
  },
  {
   "cell_type": "markdown",
   "id": "b8cf07ac",
   "metadata": {},
   "source": [
    "reverse - y lesser than y hat "
   ]
  },
  {
   "cell_type": "code",
   "execution_count": 37,
   "id": "7072fbd5",
   "metadata": {},
   "outputs": [
    {
     "data": {
      "text/plain": [
       "4.605170185988091"
      ]
     },
     "execution_count": 37,
     "metadata": {},
     "output_type": "execute_result"
    }
   ],
   "source": [
    "y = 0 \n",
    "y_hat = 0.99\n",
    "logloss(y, y_hat)"
   ]
  },
  {
   "cell_type": "code",
   "execution_count": 38,
   "id": "7ac38722",
   "metadata": {},
   "outputs": [
    {
     "data": {
      "text/plain": [
       "0.01005033585350145"
      ]
     },
     "execution_count": 38,
     "metadata": {},
     "output_type": "execute_result"
    }
   ],
   "source": [
    "y = 0 \n",
    "y_hat = 0.01\n",
    "logloss(y, y_hat)"
   ]
  },
  {
   "cell_type": "markdown",
   "id": "7265cfba",
   "metadata": {},
   "source": [
    "### Gradients / Optimization "
   ]
  },
  {
   "cell_type": "code",
   "execution_count": 43,
   "id": "66de1f01",
   "metadata": {},
   "outputs": [],
   "source": [
    "#now the predict fuction \n",
    "def predict(X , W):\n",
    "\n",
    "#     X : (n,d) input matrix \n",
    "#     W : (d,1) all the weights    \n",
    "    z = np.dot(X, W)\n",
    "    \n",
    "    return sigmoid(z)"
   ]
  },
  {
   "cell_type": "code",
   "execution_count": 44,
   "id": "d8c067d6",
   "metadata": {},
   "outputs": [],
   "source": [
    "def error(X,y,W):\n",
    "    \n",
    "    y_hat = predict(X,W)\n",
    "    err = np.mean(-y * np.log(y_hat) - (1-y)* np.log(1 - y_hat))\n",
    "    \n",
    "    return err"
   ]
  },
  {
   "cell_type": "code",
   "execution_count": 41,
   "id": "c33aef44",
   "metadata": {},
   "outputs": [],
   "source": [
    "#implement the above formula \n",
    "def gradient(X,y,W):\n",
    "    y_hat = predict(X,W)\n",
    "    grad = np.dot(X.T , y_hat - y)\n",
    "    \n",
    "    return  2*grad/(len(X))"
   ]
  },
  {
   "cell_type": "code",
   "execution_count": 42,
   "id": "e750125f",
   "metadata": {},
   "outputs": [],
   "source": [
    "# #laslty the gradient descent \n",
    "def gradient_descent(X, Y, N_iter = 100, eta = 0.1):\n",
    "    weights = np.random.randn(X.shape[1],1)\n",
    "    error_list = []\n",
    "    \n",
    "    for i in range(N_iter):\n",
    "        e = error(X, Y, weights)\n",
    "        error_list.append(e)\n",
    "\n",
    "        grad = gradient(X, Y, weights)\n",
    "        weights = weights - eta*grad \n",
    "        \n",
    "    return weights.round(2), error_list\n",
    "\n"
   ]
  },
  {
   "cell_type": "code",
   "execution_count": null,
   "id": "85d57b27",
   "metadata": {},
   "outputs": [],
   "source": []
  }
 ],
 "metadata": {
  "kernelspec": {
   "display_name": "Python 3 (ipykernel)",
   "language": "python",
   "name": "python3"
  },
  "language_info": {
   "codemirror_mode": {
    "name": "ipython",
    "version": 3
   },
   "file_extension": ".py",
   "mimetype": "text/x-python",
   "name": "python",
   "nbconvert_exporter": "python",
   "pygments_lexer": "ipython3",
   "version": "3.9.7"
  }
 },
 "nbformat": 4,
 "nbformat_minor": 5
}
